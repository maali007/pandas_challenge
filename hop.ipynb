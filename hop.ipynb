{
 "cells": [
  {
   "cell_type": "markdown",
   "metadata": {},
   "source": [
    "## Part 0: Dependencies and reading the data"
   ]
  },
  {
   "cell_type": "code",
   "execution_count": 1,
   "metadata": {},
   "outputs": [],
   "source": [
    "# Dependencies and Setup\n",
    "import pandas as pd\n",
    "\n",
    "# format dollar amounts appropriately\n",
    "pd.options.display.float_format = '${:,.2f}'.format"
   ]
  },
  {
   "cell_type": "code",
   "execution_count": 2,
   "metadata": {},
   "outputs": [],
   "source": [
    "# Load and Read purchasing file\n",
    "dataset = pd.read_csv('Purchase_data.csv')\n",
    "# Check info: dataset.info()"
   ]
  },
  {
   "cell_type": "markdown",
   "metadata": {},
   "source": [
    "## Part 1: Player Count"
   ]
  },
  {
   "cell_type": "code",
   "execution_count": 3,
   "metadata": {},
   "outputs": [
    {
     "data": {
      "text/html": [
       "<div>\n",
       "<style scoped>\n",
       "    .dataframe tbody tr th:only-of-type {\n",
       "        vertical-align: middle;\n",
       "    }\n",
       "\n",
       "    .dataframe tbody tr th {\n",
       "        vertical-align: top;\n",
       "    }\n",
       "\n",
       "    .dataframe thead th {\n",
       "        text-align: right;\n",
       "    }\n",
       "</style>\n",
       "<table border=\"1\" class=\"dataframe\">\n",
       "  <thead>\n",
       "    <tr style=\"text-align: right;\">\n",
       "      <th></th>\n",
       "      <th>Total Players</th>\n",
       "    </tr>\n",
       "  </thead>\n",
       "  <tbody>\n",
       "    <tr>\n",
       "      <th>0</th>\n",
       "      <td>576</td>\n",
       "    </tr>\n",
       "  </tbody>\n",
       "</table>\n",
       "</div>"
      ],
      "text/plain": [
       "   Total Players\n",
       "0            576"
      ]
     },
     "execution_count": 3,
     "metadata": {},
     "output_type": "execute_result"
    }
   ],
   "source": [
    "# Determine number of unique players. Display in dataframe: part1_df\n",
    "unique_players = len(pd.unique(dataset['SN']))\n",
    "\n",
    "part1_df = pd.DataFrame(\n",
    "    {\"Total Players\": [unique_players]})\n",
    "part1_df"
   ]
  },
  {
   "cell_type": "markdown",
   "metadata": {},
   "source": [
    "## Part 2: Purchasing Analysis (Total)"
   ]
  },
  {
   "cell_type": "code",
   "execution_count": 4,
   "metadata": {},
   "outputs": [
    {
     "data": {
      "text/html": [
       "<div>\n",
       "<style scoped>\n",
       "    .dataframe tbody tr th:only-of-type {\n",
       "        vertical-align: middle;\n",
       "    }\n",
       "\n",
       "    .dataframe tbody tr th {\n",
       "        vertical-align: top;\n",
       "    }\n",
       "\n",
       "    .dataframe thead th {\n",
       "        text-align: right;\n",
       "    }\n",
       "</style>\n",
       "<table border=\"1\" class=\"dataframe\">\n",
       "  <thead>\n",
       "    <tr style=\"text-align: right;\">\n",
       "      <th></th>\n",
       "      <th>Number of Unique Items</th>\n",
       "      <th>Average Price</th>\n",
       "      <th>Number of Purchases</th>\n",
       "      <th>Total Revenue</th>\n",
       "    </tr>\n",
       "  </thead>\n",
       "  <tbody>\n",
       "    <tr>\n",
       "      <th>0</th>\n",
       "      <td>179</td>\n",
       "      <td>$3.05</td>\n",
       "      <td>780</td>\n",
       "      <td>$2,379.77</td>\n",
       "    </tr>\n",
       "  </tbody>\n",
       "</table>\n",
       "</div>"
      ],
      "text/plain": [
       "   Number of Unique Items  Average Price  Number of Purchases  Total Revenue\n",
       "0                     179          $3.05                  780      $2,379.77"
      ]
     },
     "execution_count": 4,
     "metadata": {},
     "output_type": "execute_result"
    }
   ],
   "source": [
    "# Determine number of unique items, total revenue, number of purchases, and average price. Display in dataframe: part2_df\n",
    "unique_items = len(pd.unique(dataset['Item Name']))\n",
    "total_revenue = sum(dataset['Price'])\n",
    "purchase_count = len(dataset)\n",
    "average_price = round(dataset['Price'].mean(), 2)\n",
    "\n",
    "part2_df = pd.DataFrame(\n",
    "    {\"Number of Unique Items\": [unique_items],\n",
    "     \"Average Price\": [average_price],\n",
    "     \"Number of Purchases\": [purchase_count],\n",
    "     \"Total Revenue\": [total_revenue]\n",
    "     })\n",
    "part2_df"
   ]
  },
  {
   "cell_type": "markdown",
   "metadata": {},
   "source": [
    "## Part 3: Gender Demographics"
   ]
  },
  {
   "cell_type": "code",
   "execution_count": 5,
   "metadata": {},
   "outputs": [
    {
     "data": {
      "text/html": [
       "<div>\n",
       "<style scoped>\n",
       "    .dataframe tbody tr th:only-of-type {\n",
       "        vertical-align: middle;\n",
       "    }\n",
       "\n",
       "    .dataframe tbody tr th {\n",
       "        vertical-align: top;\n",
       "    }\n",
       "\n",
       "    .dataframe thead th {\n",
       "        text-align: right;\n",
       "    }\n",
       "</style>\n",
       "<table border=\"1\" class=\"dataframe\">\n",
       "  <thead>\n",
       "    <tr style=\"text-align: right;\">\n",
       "      <th></th>\n",
       "      <th>Gender</th>\n",
       "      <th>Percentage of Players</th>\n",
       "    </tr>\n",
       "  </thead>\n",
       "  <tbody>\n",
       "    <tr>\n",
       "      <th>Male</th>\n",
       "      <td>484</td>\n",
       "      <td>84.03%</td>\n",
       "    </tr>\n",
       "    <tr>\n",
       "      <th>Female</th>\n",
       "      <td>81</td>\n",
       "      <td>14.06%</td>\n",
       "    </tr>\n",
       "    <tr>\n",
       "      <th>Other / Non-Disclosed</th>\n",
       "      <td>11</td>\n",
       "      <td>1.91%</td>\n",
       "    </tr>\n",
       "  </tbody>\n",
       "</table>\n",
       "</div>"
      ],
      "text/plain": [
       "                       Gender Percentage of Players\n",
       "Male                      484                84.03%\n",
       "Female                     81                14.06%\n",
       "Other / Non-Disclosed      11                 1.91%"
      ]
     },
     "execution_count": 5,
     "metadata": {},
     "output_type": "execute_result"
    }
   ],
   "source": [
    "# Drop duplicate players names\n",
    "dataset_unique = dataset.drop_duplicates(subset='SN', keep='first', inplace=False)\n",
    "\n",
    "# Determine gender distribution (count and percent) for the dataset of unique players\n",
    "counts = dataset_unique['Gender'].value_counts()\n",
    "percents = dataset_unique['Gender'].value_counts(normalize = True)\n",
    "\n",
    "# Create dataframe: part3_df, to display statistics for Part 3\n",
    "part3_df = pd.DataFrame(counts)\n",
    "\n",
    "# Create a list of percents and format (% sign and 2dp)\n",
    "part3_df['Percentage of Players'] = list(percents)\n",
    "part3_df['Percentage of Players'] =  pd.DataFrame([\"{0:.2f}%\".format(val * 100) for val in part3_df['Percentage of Players']], index = part3_df.index)\n",
    "part3_df.head()"
   ]
  },
  {
   "cell_type": "markdown",
   "metadata": {},
   "source": [
    "## Part 4: Purchasing Analysis (Gender)"
   ]
  },
  {
   "cell_type": "code",
   "execution_count": 6,
   "metadata": {},
   "outputs": [],
   "source": [
    "# Grouping the dataset by player name (SN)\n",
    "groups = dataset.groupby('SN')\n",
    "# getting sum of each individual \n",
    "price_sum = groups['Price'].sum()"
   ]
  },
  {
   "cell_type": "code",
   "execution_count": 7,
   "metadata": {},
   "outputs": [
    {
     "name": "stderr",
     "output_type": "stream",
     "text": [
      "C:\\Users\\fkmaa\\anaconda3\\envs\\PythonData\\lib\\site-packages\\ipykernel_launcher.py:2: SettingWithCopyWarning: \n",
      "A value is trying to be set on a copy of a slice from a DataFrame.\n",
      "Try using .loc[row_indexer,col_indexer] = value instead\n",
      "\n",
      "See the caveats in the documentation: https://pandas.pydata.org/pandas-docs/stable/user_guide/indexing.html#returning-a-view-versus-a-copy\n",
      "  \n"
     ]
    }
   ],
   "source": [
    "# Assigning the sum values to col7 to replace the original one as it only accounted for the first item make sure we have accurate information\n",
    "dataset_unique['Price'] = list(price_sum)"
   ]
  },
  {
   "cell_type": "code",
   "execution_count": 8,
   "metadata": {
    "scrolled": true
   },
   "outputs": [],
   "source": [
    "# Group by Gender\n",
    "groups = dataset.groupby('Gender')\n",
    "# Unique players group by Gender\n",
    "groups2 = dataset_unique.groupby('Gender')"
   ]
  },
  {
   "cell_type": "code",
   "execution_count": 9,
   "metadata": {},
   "outputs": [
    {
     "data": {
      "text/html": [
       "<div>\n",
       "<style scoped>\n",
       "    .dataframe tbody tr th:only-of-type {\n",
       "        vertical-align: middle;\n",
       "    }\n",
       "\n",
       "    .dataframe tbody tr th {\n",
       "        vertical-align: top;\n",
       "    }\n",
       "\n",
       "    .dataframe thead th {\n",
       "        text-align: right;\n",
       "    }\n",
       "</style>\n",
       "<table border=\"1\" class=\"dataframe\">\n",
       "  <thead>\n",
       "    <tr style=\"text-align: right;\">\n",
       "      <th></th>\n",
       "      <th>Purchase Count</th>\n",
       "      <th>Average Purchase Price</th>\n",
       "      <th>Total Purchase Value</th>\n",
       "      <th>Average Total Purchase per Person</th>\n",
       "    </tr>\n",
       "  </thead>\n",
       "  <tbody>\n",
       "    <tr>\n",
       "      <th>Female</th>\n",
       "      <td>$113.00</td>\n",
       "      <td>$3.20</td>\n",
       "      <td>$361.94</td>\n",
       "      <td>$4.19</td>\n",
       "    </tr>\n",
       "    <tr>\n",
       "      <th>Males</th>\n",
       "      <td>$652.00</td>\n",
       "      <td>$3.02</td>\n",
       "      <td>$1,967.64</td>\n",
       "      <td>$4.11</td>\n",
       "    </tr>\n",
       "    <tr>\n",
       "      <th>Other / Non-Disclosed</th>\n",
       "      <td>$15.00</td>\n",
       "      <td>$3.35</td>\n",
       "      <td>$50.19</td>\n",
       "      <td>$4.65</td>\n",
       "    </tr>\n",
       "  </tbody>\n",
       "</table>\n",
       "</div>"
      ],
      "text/plain": [
       "                       Purchase Count  Average Purchase Price  \\\n",
       "Female                        $113.00                   $3.20   \n",
       "Males                         $652.00                   $3.02   \n",
       "Other / Non-Disclosed          $15.00                   $3.35   \n",
       "\n",
       "                       Total Purchase Value  Average Total Purchase per Person  \n",
       "Female                              $361.94                              $4.19  \n",
       "Males                             $1,967.64                              $4.11  \n",
       "Other / Non-Disclosed                $50.19                              $4.65  "
      ]
     },
     "execution_count": 9,
     "metadata": {},
     "output_type": "execute_result"
    }
   ],
   "source": [
    "# Count, mean, and sum by Gender and Price as well as mean by unique players, Gender and Price\n",
    "# Females\n",
    "f_count = groups.get_group('Female')['Price'].count()\n",
    "f_mean = round(groups.get_group('Female')['Price'].mean(), 2)\n",
    "f_sum = round(groups.get_group('Female')['Price'].sum(), 2)\n",
    "f_mean2 = round(groups2.get_group('Female')['Price'].mean(), 2)\n",
    "# Males\n",
    "m_count = groups.get_group('Male')['Price'].count()\n",
    "m_mean = round(groups.get_group('Male')['Price'].mean(),2)\n",
    "m_sum = round(groups.get_group('Male')['Price'].sum(),2)\n",
    "m_mean2 = round(groups2.get_group('Male')['Price'].mean(),2)\n",
    "# Others / Non-Disclosed\n",
    "o_count = groups.get_group('Other / Non-Disclosed')['Price'].count()\n",
    "o_mean = round(groups.get_group('Other / Non-Disclosed')['Price'].mean(),2)\n",
    "o_sum = round(groups.get_group('Other / Non-Disclosed')['Price'].sum(),2)\n",
    "o_mean2 = round(groups2.get_group('Other / Non-Disclosed')['Price'].mean(),2)\n",
    "\n",
    "# Create dictionary for the Part 4 stats calculated above for display in part4_df\n",
    "dict4 = {'Female': (f_count, f_mean, f_sum, f_mean2),\n",
    "           'Males': (m_count, m_mean, m_sum, m_mean2),\n",
    "            'Other / Non-Disclosed': (o_count, o_mean, o_sum, o_mean2)}\n",
    "\n",
    "# Create dataframe: part4_df, for the Part 4 stats in dict4\n",
    "part4_df = pd.DataFrame(dict4, index = ['Purchase Count','Average Purchase Price', 'Total Purchase Value','Average Total Purchase per Person' ])\n",
    "\n",
    "part4_df.T\n"
   ]
  },
  {
   "cell_type": "markdown",
   "metadata": {},
   "source": [
    "## Part 5: Age Demographics"
   ]
  },
  {
   "cell_type": "code",
   "execution_count": 10,
   "metadata": {},
   "outputs": [],
   "source": [
    "# Bins and percentages\n",
    "bin1 = len(dataset['SN'].loc[dataset.Age< 10].unique())\n",
    "bin1_percent = round(len(dataset['SN'].loc[dataset.Age < 10].unique())/len(dataset['SN'].unique()),4)*100\n",
    "bin2 = len(dataset['SN'].loc[dataset.Age.between(10, 14)].unique())\n",
    "bin2_percent = round(len(dataset['SN'].loc[dataset.Age.between(10, 14)].unique())/len(dataset['SN'].unique()), 2)*100\n",
    "bin3 = len(dataset['SN'].loc[dataset.Age.between(15, 19)].unique())\n",
    "bin3_percent = round(len(dataset['SN'].loc[dataset.Age.between(15, 19)].unique())/len(dataset['SN'].unique()), 2)*100\n",
    "bin4 = len(dataset['SN'].loc[dataset.Age.between(20, 24)].unique())\n",
    "bin4_percent= round(len(dataset['SN'].loc[dataset.Age.between(20, 24)].unique())/len(dataset['SN'].unique()), 2)*100\n",
    "bin5 = len(dataset['SN'].loc[dataset.Age.between(25, 29)].unique())\n",
    "bin5_percent= round(len(dataset['SN'].loc[dataset.Age.between(25, 29)].unique())/len(dataset['SN'].unique()), 2)*100\n",
    "bin6 = len(dataset['SN'].loc[dataset.Age.between(30, 34)].unique())\n",
    "bin6_percent= round(len(dataset['SN'].loc[dataset.Age.between(30, 34)].unique())/len(dataset['SN'].unique()), 2)*100\n",
    "bin7 = len(dataset['SN'].loc[dataset.Age.between(35, 39)].unique())\n",
    "bin7_percent= round(len(dataset['SN'].loc[dataset.Age.between(35, 39)].unique())/len(dataset['SN'].unique()), 2)*100\n",
    "bin8 = len(dataset['SN'].loc[dataset.Age >= 40].unique())\n",
    "bin8_percent= round(len(dataset['SN'].loc[dataset.Age >= 40].unique())/len(dataset['SN'].unique()), 2)*100"
   ]
  },
  {
   "cell_type": "code",
   "execution_count": 11,
   "metadata": {},
   "outputs": [],
   "source": [
    "# Create dictionary for the Part 5 stats calculated above for display in part5_df\n",
    "dict5 = {'Total Count':(bin1,bin2,bin3,bin4,bin5,bin6,bin7,bin8),\n",
    "             'Percentage':(bin1_percent,bin2_percent,bin3_percent,bin4_percent,bin5_percent,bin6_percent,bin7_percent,bin8_percent)}"
   ]
  },
  {
   "cell_type": "code",
   "execution_count": 12,
   "metadata": {},
   "outputs": [
    {
     "data": {
      "text/html": [
       "<div>\n",
       "<style scoped>\n",
       "    .dataframe tbody tr th:only-of-type {\n",
       "        vertical-align: middle;\n",
       "    }\n",
       "\n",
       "    .dataframe tbody tr th {\n",
       "        vertical-align: top;\n",
       "    }\n",
       "\n",
       "    .dataframe thead th {\n",
       "        text-align: right;\n",
       "    }\n",
       "</style>\n",
       "<table border=\"1\" class=\"dataframe\">\n",
       "  <thead>\n",
       "    <tr style=\"text-align: right;\">\n",
       "      <th></th>\n",
       "      <th>Total Count</th>\n",
       "      <th>Percentage</th>\n",
       "    </tr>\n",
       "  </thead>\n",
       "  <tbody>\n",
       "    <tr>\n",
       "      <th>&lt;10</th>\n",
       "      <td>17</td>\n",
       "      <td>2.95%</td>\n",
       "    </tr>\n",
       "    <tr>\n",
       "      <th>10-14</th>\n",
       "      <td>22</td>\n",
       "      <td>4.00%</td>\n",
       "    </tr>\n",
       "    <tr>\n",
       "      <th>15-19</th>\n",
       "      <td>107</td>\n",
       "      <td>19.00%</td>\n",
       "    </tr>\n",
       "    <tr>\n",
       "      <th>20-24</th>\n",
       "      <td>258</td>\n",
       "      <td>45.00%</td>\n",
       "    </tr>\n",
       "    <tr>\n",
       "      <th>25-29</th>\n",
       "      <td>77</td>\n",
       "      <td>13.00%</td>\n",
       "    </tr>\n",
       "    <tr>\n",
       "      <th>30-34</th>\n",
       "      <td>52</td>\n",
       "      <td>9.00%</td>\n",
       "    </tr>\n",
       "    <tr>\n",
       "      <th>35-39</th>\n",
       "      <td>31</td>\n",
       "      <td>5.00%</td>\n",
       "    </tr>\n",
       "    <tr>\n",
       "      <th>40+</th>\n",
       "      <td>12</td>\n",
       "      <td>2.00%</td>\n",
       "    </tr>\n",
       "  </tbody>\n",
       "</table>\n",
       "</div>"
      ],
      "text/plain": [
       "       Total Count Percentage\n",
       "<10             17      2.95%\n",
       "10-14           22      4.00%\n",
       "15-19          107     19.00%\n",
       "20-24          258     45.00%\n",
       "25-29           77     13.00%\n",
       "30-34           52      9.00%\n",
       "35-39           31      5.00%\n",
       "40+             12      2.00%"
      ]
     },
     "execution_count": 12,
     "metadata": {},
     "output_type": "execute_result"
    }
   ],
   "source": [
    "# Create dataframe: part5_df\n",
    "part5_df = pd.DataFrame(dict5, index = ['<10', '10-14', '15-19','20-24','25-29','30-34', '35-39', '40+'])\n",
    "\n",
    "# Format % column\n",
    "part5_df['Percentage'] =  pd.DataFrame([\"{0:.2f}%\".format(val * 1) for val in part5_df['Percentage']], index = part5_df.index)\n",
    "\n",
    "# Display results\n",
    "part5_df"
   ]
  },
  {
   "cell_type": "markdown",
   "metadata": {},
   "source": [
    "## Part 6: Purchasing Analysis (Age)"
   ]
  },
  {
   "cell_type": "code",
   "execution_count": 13,
   "metadata": {},
   "outputs": [],
   "source": [
    "# Create bins, sum price per bin, average price per bin, average price per bin per person\n",
    "bin1 = len(dataset.loc[dataset.Age < 10]['Price'])\n",
    "bin1_total = dataset.loc[dataset.Age < 10]['Price'].sum()\n",
    "bin1_average = dataset.loc[dataset.Age < 10]['Price'].mean()\n",
    "bin1_average2 = dataset_unique.loc[dataset.Age < 10]['Price'].mean()\n",
    "\n",
    "bin2 = len(dataset.loc[dataset.Age.between(10,14)]['Price'])\n",
    "bin2_total = dataset.loc[dataset.Age.between(10,14)]['Price'].sum()\n",
    "bin2_average = dataset.loc[dataset.Age.between(10,14)]['Price'].mean()\n",
    "bin2_average2 = dataset_unique.loc[dataset.Age.between(10,14)]['Price'].mean()\n",
    "\n",
    "bin3 = len(dataset.loc[dataset.Age.between(15,19)]['Price'])\n",
    "bin3_total = dataset.loc[dataset.Age.between(15,19)]['Price'].sum()\n",
    "bin3_average = dataset.loc[dataset.Age.between(15,19)]['Price'].mean()\n",
    "bin3_average2 = dataset_unique.loc[dataset.Age.between(15,19)]['Price'].mean()\n",
    "\n",
    "bin4 = len(dataset.loc[dataset.Age.between(20,24)]['Price'])\n",
    "bin4_total = dataset.loc[dataset.Age.between(20,24)]['Price'].sum()\n",
    "bin4_average = dataset.loc[dataset.Age.between(20,24)]['Price'].mean()\n",
    "bin4_average2 = dataset_unique.loc[dataset.Age.between(20,24)]['Price'].mean()\n",
    "\n",
    "bin5 = len(dataset.loc[dataset.Age.between(25,29)]['Price'])\n",
    "bin5_total = dataset.loc[dataset.Age.between(25,29)]['Price'].sum()\n",
    "bin5_average = dataset.loc[dataset.Age.between(25,29)]['Price'].mean()\n",
    "bin5_average2 = dataset_unique.loc[dataset.Age.between(25,29)]['Price'].mean()\n",
    "\n",
    "bin6 = len(dataset.loc[dataset.Age.between(30,34)]['Price'])\n",
    "bin6_total = dataset.loc[dataset.Age.between(30,34)]['Price'].sum()\n",
    "bin6_average = dataset.loc[dataset.Age.between(30,34)]['Price'].mean()\n",
    "bin6_average2 = dataset_unique.loc[dataset.Age.between(30,34)]['Price'].mean()\n",
    "\n",
    "bin7 = len(dataset.loc[dataset.Age.between(35,39)]['Price'])\n",
    "bin7_total = dataset.loc[dataset.Age.between(35,39)]['Price'].sum()\n",
    "bin7_average = dataset.loc[dataset.Age.between(35,39)]['Price'].mean()\n",
    "bin7_average2 = dataset_unique.loc[dataset.Age.between(35,39)]['Price'].mean()\n",
    "\n",
    "bin8 = len(dataset.loc[dataset.Age > 40]['Price'])\n",
    "bin8_total = dataset.loc[dataset.Age > 40]['Price'].sum()\n",
    "bin8_average = dataset.loc[dataset.Age > 40]['Price'].mean()\n",
    "bin8_average2 = dataset_unique.loc[dataset.Age > 40]['Price'].mean()"
   ]
  },
  {
   "cell_type": "code",
   "execution_count": 14,
   "metadata": {},
   "outputs": [],
   "source": [
    "# Create dictionary for the Part 6 stats calculated above for display in part6_df\n",
    "dict_6 =  {'Purchase Count':(bin1,bin2,bin3,bin4,bin5,bin6,bin7, bin8),\n",
    "          'Average Purchase Price': (bin1_average,bin2_average,bin3_average,bin4_average,bin5_average,\n",
    "           bin6_average,bin7_average,bin8_average), \n",
    "          'Total Purchase Value':(bin1_total,bin2_total,bin3_total,bin4_total,bin5_total,bin6_total,bin7_total, bin8_total),\n",
    "          'Average Total Purchase Per Person':(bin1_average2,bin2_average2,bin3_average2,bin4_average2,bin5_average2,\n",
    "           bin6_average2,bin7_average2,bin8_average2)}"
   ]
  },
  {
   "cell_type": "code",
   "execution_count": 15,
   "metadata": {},
   "outputs": [
    {
     "data": {
      "text/html": [
       "<div>\n",
       "<style scoped>\n",
       "    .dataframe tbody tr th:only-of-type {\n",
       "        vertical-align: middle;\n",
       "    }\n",
       "\n",
       "    .dataframe tbody tr th {\n",
       "        vertical-align: top;\n",
       "    }\n",
       "\n",
       "    .dataframe thead th {\n",
       "        text-align: right;\n",
       "    }\n",
       "</style>\n",
       "<table border=\"1\" class=\"dataframe\">\n",
       "  <thead>\n",
       "    <tr style=\"text-align: right;\">\n",
       "      <th></th>\n",
       "      <th>Purchase Count</th>\n",
       "      <th>Average Purchase Price</th>\n",
       "      <th>Total Purchase Value</th>\n",
       "      <th>Average Total Purchase Per Person</th>\n",
       "    </tr>\n",
       "  </thead>\n",
       "  <tbody>\n",
       "    <tr>\n",
       "      <th>&lt;10</th>\n",
       "      <td>23</td>\n",
       "      <td>$3.35</td>\n",
       "      <td>$77.13</td>\n",
       "      <td>$5.32</td>\n",
       "    </tr>\n",
       "    <tr>\n",
       "      <th>10-14</th>\n",
       "      <td>28</td>\n",
       "      <td>$2.96</td>\n",
       "      <td>$82.78</td>\n",
       "      <td>$4.32</td>\n",
       "    </tr>\n",
       "    <tr>\n",
       "      <th>15-19</th>\n",
       "      <td>136</td>\n",
       "      <td>$3.04</td>\n",
       "      <td>$412.89</td>\n",
       "      <td>$4.11</td>\n",
       "    </tr>\n",
       "    <tr>\n",
       "      <th>20-24</th>\n",
       "      <td>365</td>\n",
       "      <td>$3.05</td>\n",
       "      <td>$1,114.06</td>\n",
       "      <td>$4.10</td>\n",
       "    </tr>\n",
       "    <tr>\n",
       "      <th>25-29</th>\n",
       "      <td>101</td>\n",
       "      <td>$2.90</td>\n",
       "      <td>$293.00</td>\n",
       "      <td>$4.16</td>\n",
       "    </tr>\n",
       "    <tr>\n",
       "      <th>30-34</th>\n",
       "      <td>73</td>\n",
       "      <td>$2.93</td>\n",
       "      <td>$214.00</td>\n",
       "      <td>$3.86</td>\n",
       "    </tr>\n",
       "    <tr>\n",
       "      <th>35-39</th>\n",
       "      <td>41</td>\n",
       "      <td>$3.60</td>\n",
       "      <td>$147.67</td>\n",
       "      <td>$4.48</td>\n",
       "    </tr>\n",
       "    <tr>\n",
       "      <th>40+</th>\n",
       "      <td>7</td>\n",
       "      <td>$3.08</td>\n",
       "      <td>$21.53</td>\n",
       "      <td>$3.15</td>\n",
       "    </tr>\n",
       "  </tbody>\n",
       "</table>\n",
       "</div>"
      ],
      "text/plain": [
       "       Purchase Count  Average Purchase Price  Total Purchase Value  \\\n",
       "<10                23                   $3.35                $77.13   \n",
       "10-14              28                   $2.96                $82.78   \n",
       "15-19             136                   $3.04               $412.89   \n",
       "20-24             365                   $3.05             $1,114.06   \n",
       "25-29             101                   $2.90               $293.00   \n",
       "30-34              73                   $2.93               $214.00   \n",
       "35-39              41                   $3.60               $147.67   \n",
       "40+                 7                   $3.08                $21.53   \n",
       "\n",
       "       Average Total Purchase Per Person  \n",
       "<10                                $5.32  \n",
       "10-14                              $4.32  \n",
       "15-19                              $4.11  \n",
       "20-24                              $4.10  \n",
       "25-29                              $4.16  \n",
       "30-34                              $3.86  \n",
       "35-39                              $4.48  \n",
       "40+                                $3.15  "
      ]
     },
     "execution_count": 15,
     "metadata": {},
     "output_type": "execute_result"
    }
   ],
   "source": [
    "part6_df = pd.DataFrame(dict_6, index = ['<10', '10-14', '15-19','20-24','25-29',\n",
    "                                         '30-34', '35-39', '40+'])\n",
    "\n",
    "part6_df"
   ]
  },
  {
   "cell_type": "markdown",
   "metadata": {},
   "source": [
    "## Part 7: Top Spenders"
   ]
  },
  {
   "cell_type": "code",
   "execution_count": 16,
   "metadata": {},
   "outputs": [],
   "source": [
    "# Group by SN\n",
    "groups_2 = dataset.groupby('SN')"
   ]
  },
  {
   "cell_type": "code",
   "execution_count": 17,
   "metadata": {},
   "outputs": [],
   "source": [
    "# Determine sums, mean and count of groups_2\n",
    "price_sums = groups_2['Price'].sum()\n",
    "price_mean = groups_2['Price'].mean()\n",
    "count = groups_2['Price'].count()"
   ]
  },
  {
   "cell_type": "code",
   "execution_count": 18,
   "metadata": {},
   "outputs": [],
   "source": [
    "# Create dictionary for the Part 7 stats calculated above for display in part7_df\n",
    "dict7 = {'Purchase Count': count,\n",
    "        'Average Purchase Price ': price_mean,\n",
    "        'Total purchase value': price_sums}\n",
    "\n",
    "part7_df = pd.DataFrame(dict7)"
   ]
  },
  {
   "cell_type": "code",
   "execution_count": 19,
   "metadata": {
    "scrolled": true
   },
   "outputs": [
    {
     "data": {
      "text/html": [
       "<div>\n",
       "<style scoped>\n",
       "    .dataframe tbody tr th:only-of-type {\n",
       "        vertical-align: middle;\n",
       "    }\n",
       "\n",
       "    .dataframe tbody tr th {\n",
       "        vertical-align: top;\n",
       "    }\n",
       "\n",
       "    .dataframe thead th {\n",
       "        text-align: right;\n",
       "    }\n",
       "</style>\n",
       "<table border=\"1\" class=\"dataframe\">\n",
       "  <thead>\n",
       "    <tr style=\"text-align: right;\">\n",
       "      <th></th>\n",
       "      <th>Purchase Count</th>\n",
       "      <th>Average Purchase Price</th>\n",
       "      <th>Total purchase value</th>\n",
       "    </tr>\n",
       "    <tr>\n",
       "      <th>SN</th>\n",
       "      <th></th>\n",
       "      <th></th>\n",
       "      <th></th>\n",
       "    </tr>\n",
       "  </thead>\n",
       "  <tbody>\n",
       "    <tr>\n",
       "      <th>Lisosia93</th>\n",
       "      <td>5</td>\n",
       "      <td>$3.79</td>\n",
       "      <td>$18.96</td>\n",
       "    </tr>\n",
       "    <tr>\n",
       "      <th>Idastidru52</th>\n",
       "      <td>4</td>\n",
       "      <td>$3.86</td>\n",
       "      <td>$15.45</td>\n",
       "    </tr>\n",
       "    <tr>\n",
       "      <th>Chamjask73</th>\n",
       "      <td>3</td>\n",
       "      <td>$4.61</td>\n",
       "      <td>$13.83</td>\n",
       "    </tr>\n",
       "    <tr>\n",
       "      <th>Iral74</th>\n",
       "      <td>4</td>\n",
       "      <td>$3.40</td>\n",
       "      <td>$13.62</td>\n",
       "    </tr>\n",
       "    <tr>\n",
       "      <th>Iskadarya95</th>\n",
       "      <td>3</td>\n",
       "      <td>$4.37</td>\n",
       "      <td>$13.10</td>\n",
       "    </tr>\n",
       "  </tbody>\n",
       "</table>\n",
       "</div>"
      ],
      "text/plain": [
       "             Purchase Count  Average Purchase Price   Total purchase value\n",
       "SN                                                                        \n",
       "Lisosia93                 5                    $3.79                $18.96\n",
       "Idastidru52               4                    $3.86                $15.45\n",
       "Chamjask73                3                    $4.61                $13.83\n",
       "Iral74                    4                    $3.40                $13.62\n",
       "Iskadarya95               3                    $4.37                $13.10"
      ]
     },
     "execution_count": 19,
     "metadata": {},
     "output_type": "execute_result"
    }
   ],
   "source": [
    "# Sort descending order of Total Purchase Value and display part7_df\n",
    "sorted_df = part7_df.sort_values('Total purchase value', ascending = False)\n",
    "sorted_df.head()"
   ]
  },
  {
   "cell_type": "markdown",
   "metadata": {},
   "source": [
    "## Part 8: Most Popular Items"
   ]
  },
  {
   "cell_type": "code",
   "execution_count": 20,
   "metadata": {},
   "outputs": [],
   "source": [
    "# retrieving Item ID, Item Name, and Price Columns\n",
    "retrieves = dataset[['Item ID', 'Item Name', 'Price']]"
   ]
  },
  {
   "cell_type": "code",
   "execution_count": 21,
   "metadata": {},
   "outputs": [],
   "source": [
    "# Grouping by Item ID and Item Name\n",
    "two_groups = retrieves.groupby(['Item ID', 'Item Name'])"
   ]
  },
  {
   "cell_type": "code",
   "execution_count": 22,
   "metadata": {},
   "outputs": [],
   "source": [
    "# Functions to generate desired stats\n",
    "\n",
    "# Purchase Count\n",
    "def counts(df):\n",
    "    return(df['Price'].count())\n",
    "\n",
    "# Total Purchase Value\n",
    "def sum_products(df):\n",
    "    return(df['Price'].sum())\n",
    "\n",
    "# Item Prices (total/count)\n",
    "def prices_fxn(df):\n",
    "    return(df['Price'].sum()/df['Price'].count())"
   ]
  },
  {
   "cell_type": "code",
   "execution_count": 23,
   "metadata": {},
   "outputs": [],
   "source": [
    "# Store the stats in variables\n",
    "counts_list = two_groups.apply(counts)\n",
    "prices = two_groups.apply(prices_fxn)\n",
    "sumss = two_groups.apply(sum_products)"
   ]
  },
  {
   "cell_type": "code",
   "execution_count": 24,
   "metadata": {},
   "outputs": [],
   "source": [
    "# Create dataframe\n",
    "stats_dataframe = pd.DataFrame(two_groups.apply(counts))"
   ]
  },
  {
   "cell_type": "code",
   "execution_count": 25,
   "metadata": {},
   "outputs": [],
   "source": [
    "# Assign column headers and append values from respective lists\n",
    "stats_dataframe['Purchase Count'] = list(counts_list)\n",
    "stats_dataframe['Item Price'] = list(prices)\n",
    "stats_dataframe['Total Purchase Value'] = list(sumss)"
   ]
  },
  {
   "cell_type": "code",
   "execution_count": 26,
   "metadata": {},
   "outputs": [
    {
     "data": {
      "text/html": [
       "<div>\n",
       "<style scoped>\n",
       "    .dataframe tbody tr th:only-of-type {\n",
       "        vertical-align: middle;\n",
       "    }\n",
       "\n",
       "    .dataframe tbody tr th {\n",
       "        vertical-align: top;\n",
       "    }\n",
       "\n",
       "    .dataframe thead th {\n",
       "        text-align: right;\n",
       "    }\n",
       "</style>\n",
       "<table border=\"1\" class=\"dataframe\">\n",
       "  <thead>\n",
       "    <tr style=\"text-align: right;\">\n",
       "      <th></th>\n",
       "      <th></th>\n",
       "      <th>Purchase Count</th>\n",
       "      <th>Item Price</th>\n",
       "      <th>Total Purchase Value</th>\n",
       "    </tr>\n",
       "    <tr>\n",
       "      <th>Item ID</th>\n",
       "      <th>Item Name</th>\n",
       "      <th></th>\n",
       "      <th></th>\n",
       "      <th></th>\n",
       "    </tr>\n",
       "  </thead>\n",
       "  <tbody>\n",
       "    <tr>\n",
       "      <th>92</th>\n",
       "      <th>Final Critic</th>\n",
       "      <td>13</td>\n",
       "      <td>$4.61</td>\n",
       "      <td>$59.99</td>\n",
       "    </tr>\n",
       "    <tr>\n",
       "      <th>178</th>\n",
       "      <th>Oathbreaker, Last Hope of the Breaking Storm</th>\n",
       "      <td>12</td>\n",
       "      <td>$4.23</td>\n",
       "      <td>$50.76</td>\n",
       "    </tr>\n",
       "    <tr>\n",
       "      <th>145</th>\n",
       "      <th>Fiery Glass Crusader</th>\n",
       "      <td>9</td>\n",
       "      <td>$4.58</td>\n",
       "      <td>$41.22</td>\n",
       "    </tr>\n",
       "    <tr>\n",
       "      <th>132</th>\n",
       "      <th>Persuasion</th>\n",
       "      <td>9</td>\n",
       "      <td>$3.22</td>\n",
       "      <td>$28.99</td>\n",
       "    </tr>\n",
       "    <tr>\n",
       "      <th>108</th>\n",
       "      <th>Extraction, Quickblade Of Trembling Hands</th>\n",
       "      <td>9</td>\n",
       "      <td>$3.53</td>\n",
       "      <td>$31.77</td>\n",
       "    </tr>\n",
       "  </tbody>\n",
       "</table>\n",
       "</div>"
      ],
      "text/plain": [
       "                                                      Purchase Count  \\\n",
       "Item ID Item Name                                                      \n",
       "92      Final Critic                                              13   \n",
       "178     Oathbreaker, Last Hope of the Breaking Storm              12   \n",
       "145     Fiery Glass Crusader                                       9   \n",
       "132     Persuasion                                                 9   \n",
       "108     Extraction, Quickblade Of Trembling Hands                  9   \n",
       "\n",
       "                                                      Item Price  \\\n",
       "Item ID Item Name                                                  \n",
       "92      Final Critic                                       $4.61   \n",
       "178     Oathbreaker, Last Hope of the Breaking Storm       $4.23   \n",
       "145     Fiery Glass Crusader                               $4.58   \n",
       "132     Persuasion                                         $3.22   \n",
       "108     Extraction, Quickblade Of Trembling Hands          $3.53   \n",
       "\n",
       "                                                      Total Purchase Value  \n",
       "Item ID Item Name                                                           \n",
       "92      Final Critic                                                $59.99  \n",
       "178     Oathbreaker, Last Hope of the Breaking Storm                $50.76  \n",
       "145     Fiery Glass Crusader                                        $41.22  \n",
       "132     Persuasion                                                  $28.99  \n",
       "108     Extraction, Quickblade Of Trembling Hands                   $31.77  "
      ]
     },
     "execution_count": 26,
     "metadata": {},
     "output_type": "execute_result"
    }
   ],
   "source": [
    "# Sort the table above in descending order of Purchase Count\n",
    "dsorted_part8_df = stats_dataframe.sort_values('Purchase Count', ascending = False)\n",
    "part8_df = dsorted_part8_df.drop([0], axis = 1)\n",
    "part8_df.head()"
   ]
  },
  {
   "cell_type": "markdown",
   "metadata": {},
   "source": [
    "## Part 9: Most Profitable Items"
   ]
  },
  {
   "cell_type": "code",
   "execution_count": 27,
   "metadata": {},
   "outputs": [
    {
     "data": {
      "text/html": [
       "<div>\n",
       "<style scoped>\n",
       "    .dataframe tbody tr th:only-of-type {\n",
       "        vertical-align: middle;\n",
       "    }\n",
       "\n",
       "    .dataframe tbody tr th {\n",
       "        vertical-align: top;\n",
       "    }\n",
       "\n",
       "    .dataframe thead th {\n",
       "        text-align: right;\n",
       "    }\n",
       "</style>\n",
       "<table border=\"1\" class=\"dataframe\">\n",
       "  <thead>\n",
       "    <tr style=\"text-align: right;\">\n",
       "      <th></th>\n",
       "      <th></th>\n",
       "      <th>Purchase Count</th>\n",
       "      <th>Item Price</th>\n",
       "      <th>Total Purchase Value</th>\n",
       "    </tr>\n",
       "    <tr>\n",
       "      <th>Item ID</th>\n",
       "      <th>Item Name</th>\n",
       "      <th></th>\n",
       "      <th></th>\n",
       "      <th></th>\n",
       "    </tr>\n",
       "  </thead>\n",
       "  <tbody>\n",
       "    <tr>\n",
       "      <th>92</th>\n",
       "      <th>Final Critic</th>\n",
       "      <td>13</td>\n",
       "      <td>$4.61</td>\n",
       "      <td>$59.99</td>\n",
       "    </tr>\n",
       "    <tr>\n",
       "      <th>178</th>\n",
       "      <th>Oathbreaker, Last Hope of the Breaking Storm</th>\n",
       "      <td>12</td>\n",
       "      <td>$4.23</td>\n",
       "      <td>$50.76</td>\n",
       "    </tr>\n",
       "    <tr>\n",
       "      <th>82</th>\n",
       "      <th>Nirvana</th>\n",
       "      <td>9</td>\n",
       "      <td>$4.90</td>\n",
       "      <td>$44.10</td>\n",
       "    </tr>\n",
       "    <tr>\n",
       "      <th>145</th>\n",
       "      <th>Fiery Glass Crusader</th>\n",
       "      <td>9</td>\n",
       "      <td>$4.58</td>\n",
       "      <td>$41.22</td>\n",
       "    </tr>\n",
       "    <tr>\n",
       "      <th>103</th>\n",
       "      <th>Singed Scalpel</th>\n",
       "      <td>8</td>\n",
       "      <td>$4.35</td>\n",
       "      <td>$34.80</td>\n",
       "    </tr>\n",
       "  </tbody>\n",
       "</table>\n",
       "</div>"
      ],
      "text/plain": [
       "                                                      Purchase Count  \\\n",
       "Item ID Item Name                                                      \n",
       "92      Final Critic                                              13   \n",
       "178     Oathbreaker, Last Hope of the Breaking Storm              12   \n",
       "82      Nirvana                                                    9   \n",
       "145     Fiery Glass Crusader                                       9   \n",
       "103     Singed Scalpel                                             8   \n",
       "\n",
       "                                                      Item Price  \\\n",
       "Item ID Item Name                                                  \n",
       "92      Final Critic                                       $4.61   \n",
       "178     Oathbreaker, Last Hope of the Breaking Storm       $4.23   \n",
       "82      Nirvana                                            $4.90   \n",
       "145     Fiery Glass Crusader                               $4.58   \n",
       "103     Singed Scalpel                                     $4.35   \n",
       "\n",
       "                                                      Total Purchase Value  \n",
       "Item ID Item Name                                                           \n",
       "92      Final Critic                                                $59.99  \n",
       "178     Oathbreaker, Last Hope of the Breaking Storm                $50.76  \n",
       "82      Nirvana                                                     $44.10  \n",
       "145     Fiery Glass Crusader                                        $41.22  \n",
       "103     Singed Scalpel                                              $34.80  "
      ]
     },
     "execution_count": 27,
     "metadata": {},
     "output_type": "execute_result"
    }
   ],
   "source": [
    "# Sort the table above in descending order of Total Purchase Value\n",
    "dsorted_part9_df = stats_dataframe.sort_values('Total Purchase Value', ascending = False)\n",
    "part9_df = dsorted_part9_df.drop([0], axis = 1)\n",
    "part9_df.head()"
   ]
  }
 ],
 "metadata": {
  "kernelspec": {
   "display_name": "Python 3",
   "language": "python",
   "name": "python3"
  },
  "language_info": {
   "codemirror_mode": {
    "name": "ipython",
    "version": 3
   },
   "file_extension": ".py",
   "mimetype": "text/x-python",
   "name": "python",
   "nbconvert_exporter": "python",
   "pygments_lexer": "ipython3",
   "version": "3.6.10"
  }
 },
 "nbformat": 4,
 "nbformat_minor": 4
}
