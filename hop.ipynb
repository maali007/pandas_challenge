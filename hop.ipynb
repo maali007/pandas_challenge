{
 "cells": [
  {
   "cell_type": "code",
   "execution_count": 1,
   "metadata": {},
   "outputs": [],
   "source": [
    "# Dependencies and Setup\n",
    "import pandas as pd\n",
    "pd.options.display.float_format = '${:,.2f}'.format"
   ]
  },
  {
   "cell_type": "code",
   "execution_count": 2,
   "metadata": {},
   "outputs": [],
   "source": [
    "# Load and Read purchasing file\n",
    "dataset = pd.read_csv('Purchase_data.csv')\n",
    "# Check info\n",
    "#dataset.info()"
   ]
  },
  {
   "cell_type": "markdown",
   "metadata": {},
   "source": [
    "## Part 1: Player Count"
   ]
  },
  {
   "cell_type": "code",
   "execution_count": 3,
   "metadata": {},
   "outputs": [],
   "source": [
    "unique_players = len(pd.unique(dataset['SN']))"
   ]
  },
  {
   "cell_type": "code",
   "execution_count": 4,
   "metadata": {},
   "outputs": [
    {
     "data": {
      "text/html": [
       "<div>\n",
       "<style scoped>\n",
       "    .dataframe tbody tr th:only-of-type {\n",
       "        vertical-align: middle;\n",
       "    }\n",
       "\n",
       "    .dataframe tbody tr th {\n",
       "        vertical-align: top;\n",
       "    }\n",
       "\n",
       "    .dataframe thead th {\n",
       "        text-align: right;\n",
       "    }\n",
       "</style>\n",
       "<table border=\"1\" class=\"dataframe\">\n",
       "  <thead>\n",
       "    <tr style=\"text-align: right;\">\n",
       "      <th></th>\n",
       "      <th>Total Players</th>\n",
       "    </tr>\n",
       "  </thead>\n",
       "  <tbody>\n",
       "    <tr>\n",
       "      <th>0</th>\n",
       "      <td>576</td>\n",
       "    </tr>\n",
       "  </tbody>\n",
       "</table>\n",
       "</div>"
      ],
      "text/plain": [
       "   Total Players\n",
       "0            576"
      ]
     },
     "execution_count": 4,
     "metadata": {},
     "output_type": "execute_result"
    }
   ],
   "source": [
    "part1_df = pd.DataFrame(\n",
    "    {\"Total Players\": [unique_players]})\n",
    "part1_df"
   ]
  },
  {
   "cell_type": "markdown",
   "metadata": {},
   "source": [
    "## Part 2: Purchasing Analysis (Total)"
   ]
  },
  {
   "cell_type": "code",
   "execution_count": 5,
   "metadata": {},
   "outputs": [],
   "source": [
    "unique_items = len(pd.unique(dataset['Item Name'])) #unique_items\n",
    "total_revenue = sum(dataset['Price']) #total_revenue\n",
    "purchase_count = len(dataset) #purchase_count\n",
    "average_price = dataset['Price'].mean() #average_price"
   ]
  },
  {
   "cell_type": "code",
   "execution_count": 6,
   "metadata": {},
   "outputs": [
    {
     "data": {
      "text/html": [
       "<div>\n",
       "<style scoped>\n",
       "    .dataframe tbody tr th:only-of-type {\n",
       "        vertical-align: middle;\n",
       "    }\n",
       "\n",
       "    .dataframe tbody tr th {\n",
       "        vertical-align: top;\n",
       "    }\n",
       "\n",
       "    .dataframe thead th {\n",
       "        text-align: right;\n",
       "    }\n",
       "</style>\n",
       "<table border=\"1\" class=\"dataframe\">\n",
       "  <thead>\n",
       "    <tr style=\"text-align: right;\">\n",
       "      <th></th>\n",
       "      <th>Number of Unique Items</th>\n",
       "      <th>Average Price</th>\n",
       "      <th>Number of Purchases</th>\n",
       "      <th>Total Revenue</th>\n",
       "    </tr>\n",
       "  </thead>\n",
       "  <tbody>\n",
       "    <tr>\n",
       "      <th>0</th>\n",
       "      <td>179</td>\n",
       "      <td>$3.05</td>\n",
       "      <td>780</td>\n",
       "      <td>$2,379.77</td>\n",
       "    </tr>\n",
       "  </tbody>\n",
       "</table>\n",
       "</div>"
      ],
      "text/plain": [
       "   Number of Unique Items  Average Price  Number of Purchases  Total Revenue\n",
       "0                     179          $3.05                  780      $2,379.77"
      ]
     },
     "execution_count": 6,
     "metadata": {},
     "output_type": "execute_result"
    }
   ],
   "source": [
    "part2_df = pd.DataFrame(\n",
    "    {\"Number of Unique Items\": [unique_items],\n",
    "     \"Average Price\": [average_price],\n",
    "     \"Number of Purchases\": [purchase_count],\n",
    "     \"Total Revenue\": [total_revenue]\n",
    "     })\n",
    "part2_df"
   ]
  },
  {
   "cell_type": "markdown",
   "metadata": {},
   "source": [
    "## Part 3: Gender Demographics"
   ]
  },
  {
   "cell_type": "code",
   "execution_count": 7,
   "metadata": {},
   "outputs": [],
   "source": [
    "dataset_unique = dataset.drop_duplicates(subset='SN', keep='first', inplace=False)\n",
    "counts = dataset_unique['Gender'].value_counts()\n",
    "percents = dataset_unique['Gender'].value_counts(normalize = True)"
   ]
  },
  {
   "cell_type": "code",
   "execution_count": 8,
   "metadata": {},
   "outputs": [
    {
     "data": {
      "text/html": [
       "<div>\n",
       "<style scoped>\n",
       "    .dataframe tbody tr th:only-of-type {\n",
       "        vertical-align: middle;\n",
       "    }\n",
       "\n",
       "    .dataframe tbody tr th {\n",
       "        vertical-align: top;\n",
       "    }\n",
       "\n",
       "    .dataframe thead th {\n",
       "        text-align: right;\n",
       "    }\n",
       "</style>\n",
       "<table border=\"1\" class=\"dataframe\">\n",
       "  <thead>\n",
       "    <tr style=\"text-align: right;\">\n",
       "      <th></th>\n",
       "      <th>Total Counts</th>\n",
       "      <th>Percentage of Players</th>\n",
       "    </tr>\n",
       "  </thead>\n",
       "  <tbody>\n",
       "    <tr>\n",
       "      <th>Male</th>\n",
       "      <td>484</td>\n",
       "      <td>84.03%</td>\n",
       "    </tr>\n",
       "    <tr>\n",
       "      <th>Female</th>\n",
       "      <td>81</td>\n",
       "      <td>14.06%</td>\n",
       "    </tr>\n",
       "    <tr>\n",
       "      <th>Other / Non-Disclosed</th>\n",
       "      <td>11</td>\n",
       "      <td>1.91%</td>\n",
       "    </tr>\n",
       "  </tbody>\n",
       "</table>\n",
       "</div>"
      ],
      "text/plain": [
       "                       Total Counts Percentage of Players\n",
       "Male                            484                84.03%\n",
       "Female                           81                14.06%\n",
       "Other / Non-Disclosed            11                 1.91%"
      ]
     },
     "execution_count": 8,
     "metadata": {},
     "output_type": "execute_result"
    }
   ],
   "source": [
    "part3_df = pd.DataFrame(counts)\n",
    "part3_df['Total Counts'] = list(counts)\n",
    "part3_df['Percentage of Players'] = list(percents)\n",
    "part3_df['Percentage of Players'] = pd.Series([\"{0:.2f}%\".format(val * 100) for val in part3_df['Percentage of Players']], index = part3_df.index)\n",
    "part3_df = part3_df.drop('Gender', axis = 1)\n",
    "part3_df.head()"
   ]
  },
  {
   "cell_type": "markdown",
   "metadata": {},
   "source": [
    "## Part 4: Purchasing Analysis (Gender)"
   ]
  },
  {
   "cell_type": "code",
   "execution_count": 9,
   "metadata": {},
   "outputs": [],
   "source": [
    "dataset_unique = dataset.drop_duplicates(subset='SN', keep='first', inplace=False)\n",
    "# Grouping the dataset by Id\n",
    "groups = dataset.groupby('SN')\n",
    "# getting sum of each individual \n",
    "price_sum = groups['Price'].sum()"
   ]
  },
  {
   "cell_type": "code",
   "execution_count": 10,
   "metadata": {
    "scrolled": false
   },
   "outputs": [
    {
     "name": "stderr",
     "output_type": "stream",
     "text": [
      "C:\\Users\\fkmaa\\anaconda3\\envs\\PythonData\\lib\\site-packages\\ipykernel_launcher.py:2: SettingWithCopyWarning: \n",
      "A value is trying to be set on a copy of a slice from a DataFrame.\n",
      "Try using .loc[row_indexer,col_indexer] = value instead\n",
      "\n",
      "See the caveats in the documentation: https://pandas.pydata.org/pandas-docs/stable/user_guide/indexing.html#returning-a-view-versus-a-copy\n",
      "  \n"
     ]
    }
   ],
   "source": [
    "# Assigning the sum values to col7 to replace the original one as it only accounted for the first item make sure we have accurate information\n",
    "dataset_unique['Price'] = list(price_sum)"
   ]
  },
  {
   "cell_type": "code",
   "execution_count": 11,
   "metadata": {},
   "outputs": [],
   "source": [
    "groups = dataset.groupby('Gender')\n",
    "groups2 = dataset_unique.groupby('Gender')"
   ]
  },
  {
   "cell_type": "code",
   "execution_count": 12,
   "metadata": {},
   "outputs": [
    {
     "data": {
      "text/plain": [
       "3.203008849557519"
      ]
     },
     "execution_count": 12,
     "metadata": {},
     "output_type": "execute_result"
    }
   ],
   "source": [
    "#Getting statistics for females\n",
    "female_dataset = groups.get_group('Female')\n",
    "#female_dataset.head()\n",
    "female_dataset['Price'].mean()"
   ]
  },
  {
   "cell_type": "code",
   "execution_count": 13,
   "metadata": {},
   "outputs": [],
   "source": [
    "f_count = female_dataset['Price'].count()\n",
    "#f_count2 = groups2.get_group('Female')['Price'].count()\n",
    "f_sum = groups.get_group('Female')['Price'].sum()\n",
    "f_mean = groups.get_group('Female')['Price'].mean()\n",
    "f_mean2 = groups2.get_group('Female')['Price'].mean()"
   ]
  },
  {
   "cell_type": "code",
   "execution_count": 14,
   "metadata": {},
   "outputs": [],
   "source": [
    "#Getting statistics for males\n",
    "m_count = groups.get_group('Male')['Price'].count()\n",
    "m_sum = round(groups.get_group('Male')['Price'].sum(),2)\n",
    "m_mean = round(groups.get_group('Male')['Price'].mean(),2)\n",
    "m_mean2 = round(groups2.get_group('Female')['Price'].mean(),2)"
   ]
  },
  {
   "cell_type": "code",
   "execution_count": 15,
   "metadata": {},
   "outputs": [],
   "source": [
    "#Getting statistics for others\n",
    "o_count = groups.get_group('Other / Non-Disclosed')['Price'].count()\n",
    "o_sum = round(groups.get_group('Other / Non-Disclosed')['Price'].sum(),2)\n",
    "o_mean = round(groups.get_group('Other / Non-Disclosed')['Price'].mean(),2)\n",
    "o_mean2 = round(groups2.get_group('Other / Non-Disclosed')['Price'].mean(),2)"
   ]
  },
  {
   "cell_type": "code",
   "execution_count": 16,
   "metadata": {},
   "outputs": [],
   "source": [
    "all_data = {'Female': (f_count, f_mean, f_sum, f_mean2),\n",
    "           'Males': (m_count, m_mean, m_sum, m_mean2),\n",
    "            'Other / Non-Disclosed': (o_count, o_mean, o_sum, o_mean2)}"
   ]
  },
  {
   "cell_type": "code",
   "execution_count": 17,
   "metadata": {},
   "outputs": [],
   "source": [
    "dataframe4 = pd.DataFrame(all_data, index = ['Purchase Count','Average Purchase Price', 'Total Purchase Value','Average Total Purchase per Person' ])"
   ]
  },
  {
   "cell_type": "code",
   "execution_count": 18,
   "metadata": {
    "scrolled": false
   },
   "outputs": [
    {
     "data": {
      "text/html": [
       "<div>\n",
       "<style scoped>\n",
       "    .dataframe tbody tr th:only-of-type {\n",
       "        vertical-align: middle;\n",
       "    }\n",
       "\n",
       "    .dataframe tbody tr th {\n",
       "        vertical-align: top;\n",
       "    }\n",
       "\n",
       "    .dataframe thead th {\n",
       "        text-align: right;\n",
       "    }\n",
       "</style>\n",
       "<table border=\"1\" class=\"dataframe\">\n",
       "  <thead>\n",
       "    <tr style=\"text-align: right;\">\n",
       "      <th></th>\n",
       "      <th>Purchase Count</th>\n",
       "      <th>Average Purchase Price</th>\n",
       "      <th>Total Purchase Value</th>\n",
       "      <th>Average Total Purchase per Person</th>\n",
       "    </tr>\n",
       "  </thead>\n",
       "  <tbody>\n",
       "    <tr>\n",
       "      <th>Female</th>\n",
       "      <td>$113.00</td>\n",
       "      <td>$3.20</td>\n",
       "      <td>$361.94</td>\n",
       "      <td>$4.19</td>\n",
       "    </tr>\n",
       "    <tr>\n",
       "      <th>Males</th>\n",
       "      <td>$652.00</td>\n",
       "      <td>$3.02</td>\n",
       "      <td>$1,967.64</td>\n",
       "      <td>$4.19</td>\n",
       "    </tr>\n",
       "    <tr>\n",
       "      <th>Other / Non-Disclosed</th>\n",
       "      <td>$15.00</td>\n",
       "      <td>$3.35</td>\n",
       "      <td>$50.19</td>\n",
       "      <td>$4.65</td>\n",
       "    </tr>\n",
       "  </tbody>\n",
       "</table>\n",
       "</div>"
      ],
      "text/plain": [
       "                       Purchase Count  Average Purchase Price  \\\n",
       "Female                        $113.00                   $3.20   \n",
       "Males                         $652.00                   $3.02   \n",
       "Other / Non-Disclosed          $15.00                   $3.35   \n",
       "\n",
       "                       Total Purchase Value  Average Total Purchase per Person  \n",
       "Female                              $361.94                              $4.19  \n",
       "Males                             $1,967.64                              $4.19  \n",
       "Other / Non-Disclosed                $50.19                              $4.65  "
      ]
     },
     "execution_count": 18,
     "metadata": {},
     "output_type": "execute_result"
    }
   ],
   "source": [
    "dataframe4.T\n"
   ]
  },
  {
   "cell_type": "markdown",
   "metadata": {},
   "source": [
    "## Part 5: Age Demographics"
   ]
  },
  {
   "cell_type": "code",
   "execution_count": 19,
   "metadata": {},
   "outputs": [],
   "source": [
    "# Bins and percentages\n",
    "bin1 = len(dataset['SN'].loc[dataset.Age< 10].unique())\n",
    "bin1_percent = round(len(dataset['SN'].loc[dataset.Age < 10].unique())/len(dataset['SN'].unique()),4)*100\n",
    "bin2 = len(dataset['SN'].loc[dataset.Age.between(10, 14)].unique())\n",
    "bin2_percent = round(len(dataset['SN'].loc[dataset.Age.between(10, 14)].unique())/len(dataset['SN'].unique()), 2)*100\n",
    "bin3 = len(dataset['SN'].loc[dataset.Age.between(15, 19)].unique())\n",
    "bin3_percent = round(len(dataset['SN'].loc[dataset.Age.between(15, 19)].unique())/len(dataset['SN'].unique()), 2)*100\n",
    "bin4 = len(dataset['SN'].loc[dataset.Age.between(20, 24)].unique())\n",
    "bin4_percent= round(len(dataset['SN'].loc[dataset.Age.between(20, 24)].unique())/len(dataset['SN'].unique()), 2)*100\n",
    "bin5 = len(dataset['SN'].loc[dataset.Age.between(25, 29)].unique())\n",
    "bin5_percent= round(len(dataset['SN'].loc[dataset.Age.between(25, 29)].unique())/len(dataset['SN'].unique()), 2)*100\n",
    "bin6 = len(dataset['SN'].loc[dataset.Age.between(30, 34)].unique())\n",
    "bin6_percent= round(len(dataset['SN'].loc[dataset.Age.between(30, 34)].unique())/len(dataset['SN'].unique()), 2)*100\n",
    "bin7 = len(dataset['SN'].loc[dataset.Age.between(35, 39)].unique())\n",
    "bin7_percent= round(len(dataset['SN'].loc[dataset.Age.between(35, 39)].unique())/len(dataset['SN'].unique()), 2)*100\n",
    "bin8 = len(dataset['SN'].loc[dataset.Age >= 40].unique())\n",
    "bin8_percent= round(len(dataset['SN'].loc[dataset.Age >= 40].unique())/len(dataset['SN'].unique()), 2)*100"
   ]
  },
  {
   "cell_type": "code",
   "execution_count": 20,
   "metadata": {},
   "outputs": [],
   "source": [
    "dict5 = {'Total_count':(bin1,bin2,bin3,bin4,bin5,bin6,bin7,bin8),\n",
    "             'Percentage':(bin1_percent,bin2_percent,bin3_percent,bin4_percent,bin5_percent,bin6_percent,bin7_percent,bin8_percent)}"
   ]
  },
  {
   "cell_type": "code",
   "execution_count": 21,
   "metadata": {},
   "outputs": [
    {
     "data": {
      "text/html": [
       "<div>\n",
       "<style scoped>\n",
       "    .dataframe tbody tr th:only-of-type {\n",
       "        vertical-align: middle;\n",
       "    }\n",
       "\n",
       "    .dataframe tbody tr th {\n",
       "        vertical-align: top;\n",
       "    }\n",
       "\n",
       "    .dataframe thead th {\n",
       "        text-align: right;\n",
       "    }\n",
       "</style>\n",
       "<table border=\"1\" class=\"dataframe\">\n",
       "  <thead>\n",
       "    <tr style=\"text-align: right;\">\n",
       "      <th></th>\n",
       "      <th>Total_count</th>\n",
       "      <th>Percentage</th>\n",
       "    </tr>\n",
       "  </thead>\n",
       "  <tbody>\n",
       "    <tr>\n",
       "      <th>&lt;10</th>\n",
       "      <td>17</td>\n",
       "      <td>$2.95</td>\n",
       "    </tr>\n",
       "    <tr>\n",
       "      <th>10-14</th>\n",
       "      <td>22</td>\n",
       "      <td>$4.00</td>\n",
       "    </tr>\n",
       "    <tr>\n",
       "      <th>15-19</th>\n",
       "      <td>107</td>\n",
       "      <td>$19.00</td>\n",
       "    </tr>\n",
       "    <tr>\n",
       "      <th>20-24</th>\n",
       "      <td>258</td>\n",
       "      <td>$45.00</td>\n",
       "    </tr>\n",
       "    <tr>\n",
       "      <th>25-29</th>\n",
       "      <td>77</td>\n",
       "      <td>$13.00</td>\n",
       "    </tr>\n",
       "    <tr>\n",
       "      <th>30-34</th>\n",
       "      <td>52</td>\n",
       "      <td>$9.00</td>\n",
       "    </tr>\n",
       "    <tr>\n",
       "      <th>35-39</th>\n",
       "      <td>31</td>\n",
       "      <td>$5.00</td>\n",
       "    </tr>\n",
       "    <tr>\n",
       "      <th>40+</th>\n",
       "      <td>12</td>\n",
       "      <td>$2.00</td>\n",
       "    </tr>\n",
       "  </tbody>\n",
       "</table>\n",
       "</div>"
      ],
      "text/plain": [
       "       Total_count  Percentage\n",
       "<10             17       $2.95\n",
       "10-14           22       $4.00\n",
       "15-19          107      $19.00\n",
       "20-24          258      $45.00\n",
       "25-29           77      $13.00\n",
       "30-34           52       $9.00\n",
       "35-39           31       $5.00\n",
       "40+             12       $2.00"
      ]
     },
     "execution_count": 21,
     "metadata": {},
     "output_type": "execute_result"
    }
   ],
   "source": [
    "dataframe5 = pd.DataFrame(dict5, index = ['<10', '10-14', '15-19','20-24','25-29',\n",
    "                                         '30-34', '35-39', '40+'])\n",
    "dataframe5"
   ]
  },
  {
   "cell_type": "markdown",
   "metadata": {},
   "source": [
    "## Part 6: Purchasing Analysis (Age)"
   ]
  },
  {
   "cell_type": "code",
   "execution_count": 22,
   "metadata": {},
   "outputs": [],
   "source": [
    "bin1 = len(dataset.loc[dataset.Age < 10]['Price'])\n",
    "bin1_total = dataset.loc[dataset.Age < 10]['Price'].sum()\n",
    "bin1_average = dataset.loc[dataset.Age < 10]['Price'].mean()\n",
    "bin1_average2 = dataset_unique.loc[dataset.Age < 10]['Price'].mean()\n",
    "\n",
    "bin2 = len(dataset.loc[dataset.Age.between(10,14)]['Price'])\n",
    "bin2_total = dataset.loc[dataset.Age.between(10,14)]['Price'].sum()\n",
    "bin2_average = dataset.loc[dataset.Age.between(10,14)]['Price'].mean()\n",
    "bin2_average2 = dataset_unique.loc[dataset.Age.between(10,14)]['Price'].mean()\n",
    "\n",
    "bin3 = len(dataset.loc[dataset.Age.between(15,19)]['Price'])\n",
    "bin3_total = dataset.loc[dataset.Age.between(15,19)]['Price'].sum()\n",
    "bin3_average = dataset.loc[dataset.Age.between(15,19)]['Price'].mean()\n",
    "bin3_average2 = dataset_unique.loc[dataset.Age.between(15,19)]['Price'].mean()\n",
    "\n",
    "bin4 = len(dataset.loc[dataset.Age.between(20,24)]['Price'])\n",
    "bin4_total = dataset.loc[dataset.Age.between(20,24)]['Price'].sum()\n",
    "bin4_average = dataset.loc[dataset.Age.between(20,24)]['Price'].mean()\n",
    "bin4_average2 = dataset_unique.loc[dataset.Age.between(20,24)]['Price'].mean()\n",
    "\n",
    "bin5 = len(dataset.loc[dataset.Age.between(25,29)]['Price'])\n",
    "bin5_total = dataset.loc[dataset.Age.between(25,29)]['Price'].sum()\n",
    "bin5_average = dataset.loc[dataset.Age.between(25,29)]['Price'].mean()\n",
    "bin5_average2 = dataset_unique.loc[dataset.Age.between(25,29)]['Price'].mean()\n",
    "\n",
    "bin6 = len(dataset.loc[dataset.Age.between(30,34)]['Price'])\n",
    "bin6_total = dataset.loc[dataset.Age.between(30,34)]['Price'].sum()\n",
    "bin6_average = dataset.loc[dataset.Age.between(30,34)]['Price'].mean()\n",
    "bin6_average2 = dataset_unique.loc[dataset.Age.between(30,34)]['Price'].mean()\n",
    "\n",
    "bin7 = len(dataset.loc[dataset.Age.between(35,39)]['Price'])\n",
    "bin7_total = dataset.loc[dataset.Age.between(35,39)]['Price'].sum()\n",
    "bin7_average = dataset.loc[dataset.Age.between(35,39)]['Price'].mean()\n",
    "bin7_average2 = dataset_unique.loc[dataset.Age.between(35,39)]['Price'].mean()\n",
    "\n",
    "bin8 = len(dataset.loc[dataset.Age > 40]['Price'])\n",
    "bin8_total = dataset.loc[dataset.Age > 40]['Price'].sum()\n",
    "bin8_average = dataset.loc[dataset.Age > 40]['Price'].mean()\n",
    "bin8_average2 = dataset_unique.loc[dataset.Age > 40]['Price'].mean()"
   ]
  },
  {
   "cell_type": "code",
   "execution_count": 23,
   "metadata": {},
   "outputs": [],
   "source": [
    "dict_6 =  {'Total_count':(bin1,bin2,bin3,bin4,bin5,bin6,bin7, bin8),\n",
    "          'Total':(bin1_total,bin2_total,bin3_total,bin4_total,bin5_total,bin6_total,bin7_total, bin8_total),\n",
    "          'average_price': (bin1_average,bin2_average,bin3_average,bin4_average,bin5_average,\n",
    "           bin6_average,bin7_average,bin8_average), \n",
    "          'Average_per_person':(bin1_average2,bin2_average2,bin3_average2,bin4_average2,bin5_average2,\n",
    "           bin6_average2,bin7_average2,bin8_average2)}"
   ]
  },
  {
   "cell_type": "code",
   "execution_count": 24,
   "metadata": {},
   "outputs": [
    {
     "data": {
      "text/html": [
       "<div>\n",
       "<style scoped>\n",
       "    .dataframe tbody tr th:only-of-type {\n",
       "        vertical-align: middle;\n",
       "    }\n",
       "\n",
       "    .dataframe tbody tr th {\n",
       "        vertical-align: top;\n",
       "    }\n",
       "\n",
       "    .dataframe thead th {\n",
       "        text-align: right;\n",
       "    }\n",
       "</style>\n",
       "<table border=\"1\" class=\"dataframe\">\n",
       "  <thead>\n",
       "    <tr style=\"text-align: right;\">\n",
       "      <th></th>\n",
       "      <th>Total_count</th>\n",
       "      <th>Total</th>\n",
       "      <th>average_price</th>\n",
       "      <th>Average_per_person</th>\n",
       "    </tr>\n",
       "  </thead>\n",
       "  <tbody>\n",
       "    <tr>\n",
       "      <th>&lt;10</th>\n",
       "      <td>23</td>\n",
       "      <td>$77.13</td>\n",
       "      <td>$3.35</td>\n",
       "      <td>$5.32</td>\n",
       "    </tr>\n",
       "    <tr>\n",
       "      <th>10-14</th>\n",
       "      <td>28</td>\n",
       "      <td>$82.78</td>\n",
       "      <td>$2.96</td>\n",
       "      <td>$4.32</td>\n",
       "    </tr>\n",
       "    <tr>\n",
       "      <th>15-19</th>\n",
       "      <td>136</td>\n",
       "      <td>$412.89</td>\n",
       "      <td>$3.04</td>\n",
       "      <td>$4.11</td>\n",
       "    </tr>\n",
       "    <tr>\n",
       "      <th>20-24</th>\n",
       "      <td>365</td>\n",
       "      <td>$1,114.06</td>\n",
       "      <td>$3.05</td>\n",
       "      <td>$4.10</td>\n",
       "    </tr>\n",
       "    <tr>\n",
       "      <th>25-29</th>\n",
       "      <td>101</td>\n",
       "      <td>$293.00</td>\n",
       "      <td>$2.90</td>\n",
       "      <td>$4.16</td>\n",
       "    </tr>\n",
       "    <tr>\n",
       "      <th>30-34</th>\n",
       "      <td>73</td>\n",
       "      <td>$214.00</td>\n",
       "      <td>$2.93</td>\n",
       "      <td>$3.86</td>\n",
       "    </tr>\n",
       "    <tr>\n",
       "      <th>35-39</th>\n",
       "      <td>41</td>\n",
       "      <td>$147.67</td>\n",
       "      <td>$3.60</td>\n",
       "      <td>$4.48</td>\n",
       "    </tr>\n",
       "    <tr>\n",
       "      <th>40+</th>\n",
       "      <td>7</td>\n",
       "      <td>$21.53</td>\n",
       "      <td>$3.08</td>\n",
       "      <td>$3.15</td>\n",
       "    </tr>\n",
       "  </tbody>\n",
       "</table>\n",
       "</div>"
      ],
      "text/plain": [
       "       Total_count     Total  average_price  Average_per_person\n",
       "<10             23    $77.13          $3.35               $5.32\n",
       "10-14           28    $82.78          $2.96               $4.32\n",
       "15-19          136   $412.89          $3.04               $4.11\n",
       "20-24          365 $1,114.06          $3.05               $4.10\n",
       "25-29          101   $293.00          $2.90               $4.16\n",
       "30-34           73   $214.00          $2.93               $3.86\n",
       "35-39           41   $147.67          $3.60               $4.48\n",
       "40+              7    $21.53          $3.08               $3.15"
      ]
     },
     "execution_count": 24,
     "metadata": {},
     "output_type": "execute_result"
    }
   ],
   "source": [
    "dataframe_6 = pd.DataFrame(dict_6, index = ['<10', '10-14', '15-19','20-24','25-29',\n",
    "                                         '30-34', '35-39', '40+'])\n",
    "\n",
    "dataframe_6"
   ]
  }
 ],
 "metadata": {
  "kernelspec": {
   "display_name": "Python 3",
   "language": "python",
   "name": "python3"
  },
  "language_info": {
   "codemirror_mode": {
    "name": "ipython",
    "version": 3
   },
   "file_extension": ".py",
   "mimetype": "text/x-python",
   "name": "python",
   "nbconvert_exporter": "python",
   "pygments_lexer": "ipython3",
   "version": "3.6.10"
  }
 },
 "nbformat": 4,
 "nbformat_minor": 4
}
